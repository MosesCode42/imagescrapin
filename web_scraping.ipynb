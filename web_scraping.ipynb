{
 "cells": [
  {
   "cell_type": "code",
   "execution_count": 3,
   "id": "45854f20",
   "metadata": {},
   "outputs": [],
   "source": [
    "import requests\n",
    "import logging\n",
    "import os\n",
    "from bs4 import BeautifulSoup\n",
    "from urllib.request import urlopen"
   ]
  },
  {
   "cell_type": "code",
   "execution_count": 7,
   "id": "3bc56a33",
   "metadata": {},
   "outputs": [],
   "source": [
    "save_dir=\"images/\"\n",
    "if not os.path.exists(save_dir):\n",
    "    os.makedirs(save_dir)"
   ]
  },
  {
   "cell_type": "code",
   "execution_count": 8,
   "id": "60879a49",
   "metadata": {},
   "outputs": [],
   "source": [
    "query=\"arthur schopenhauer\"\n",
    "# url=https://www.google.com/search?q=query&client=firefox-b-d&hl=en&tbm=isch&sxsrf=AB5stBjO2gOPuZshYnkB2TSg7dmDOwhgnA:1690968627846&source=lnms&sa=X&ved=2ahUKEwic-I2D1b2AAxVbdqQEHQy_AYwQ0pQJegQIAxAE&biw=790&bih=513&dpr=1.5"
   ]
  },
  {
   "cell_type": "code",
   "execution_count": 9,
   "id": "e102483e",
   "metadata": {},
   "outputs": [],
   "source": [
    "response=requests.get(f\"https://www.google.com/search?q={query}&client=firefox-b-d&hl=en&tbm=isch&sxsrf=AB5stBjO2gOPuZshYnkB2TSg7dmDOwhgnA:1690968627846&source=lnms&sa=X&ved=2ahUKEwic-I2D1b2AAxVbdqQEHQy_AYwQ0pQJegQIAxAE&biw=790&bih=513&dpr=1.5\")"
   ]
  },
  {
   "cell_type": "code",
   "execution_count": 10,
   "id": "d2946f76",
   "metadata": {},
   "outputs": [
    {
     "data": {
      "text/plain": [
       "<Response [200]>"
      ]
     },
     "execution_count": 10,
     "metadata": {},
     "output_type": "execute_result"
    }
   ],
   "source": [
    "response"
   ]
  },
  {
   "cell_type": "code",
   "execution_count": 14,
   "id": "b5ad09a7",
   "metadata": {},
   "outputs": [],
   "source": [
    "soup = BeautifulSoup(response.content,\"html.parser\")"
   ]
  },
  {
   "cell_type": "code",
   "execution_count": 15,
   "id": "811dafdd",
   "metadata": {},
   "outputs": [
    {
     "data": {
      "text/plain": [
       "<!DOCTYPE html PUBLIC \"-//WAPFORUM//DTD XHTML Mobile 1.0//EN\" \"http://www.wapforum.org/DTD/xhtml-mobile10.dtd\">\n",
       "<html lang=\"en-KE\" xmlns=\"http://www.w3.org/1999/xhtml\"><head><meta content=\"application/xhtml+xml; charset=utf-8\" http-equiv=\"Content-Type\"/><meta content=\"no-cache\" name=\"Cache-Control\"/><title>arthur schopenhauer - Google Search</title><style>a{text-decoration:none;color:inherit}a:hover{text-decoration:underline}a img{border:0}body{font-family:arial,sans-serif;padding:8px;margin:0 auto;max-width:700px;min-width:240px;}.FbhRzb{border-left:thin solid #dadce0;border-right:thin solid #dadce0;border-top:thin solid #dadce0;height:40px;overflow:hidden}.n692Zd{margin-bottom:10px}.cvifge{height:40px;border-spacing:0}.QvGUP{height:40px;padding:0 8px 0 8px;vertical-align:top}.O4cRJf{height:40px;width:100%;padding:0;padding-right:16px}.O1ePr{height:40px;padding:0;vertical-align:top}.kgJEQe{height:36px;width:98px;vertical-align:top;margin-top:4px}.lXLRf{vertical-align:top}.MhzMZd{border:0;vertical-align:middle;font-size:14px;height:40px;padding:0;width:100%;padding-left:16px}.xB0fq{height:40px;border:none;font-size:14px;background-color:#1a73e8;color:#fff;padding:0 16px;margin:0;vertical-align:top;cursor:pointer}.xB0fq:focus{border:1px solid #1a73e8}.M7pB2{border:thin solid #dadce0;margin:0 0 3px 0;font-size:13px;font-weight:500;height:40px}.euZec{width:100%;height:40px;text-align:center;border-spacing:0}table.euZec td{padding:0;width:25%}.QIqI7{display:inline-block;padding-top:4px;font-weight:bold;color:#4285f4}.EY24We{border-bottom:2px solid #4285f4}.CsQyDc{display:inline-block;color:#70757a}.TuS8Ad{font-size:14px}.HddGcc{padding:8px;color:#70757a}.dzp8ae{font-weight:bold;color:#3c4043}.rEM8G{color:#70757a}.bookcf{table-layout:fixed;width:100%;border-spacing:0}.InWNIe{text-align:center}.uZgmoc{border:thin solid #dadce0;color:#70757a;font-size:14px;text-align:center;table-layout:fixed;width:100%}.frGj1b{display:block;padding:12px 0 12px 0;width:100%}.BnJWBc{text-align:center;padding:6px 0 13px 0;height:35px}.e3goi{vertical-align:top;padding:0;height:180px}.GpQGbf{margin:auto;border-collapse:collapse;border-spacing:0;width:100%}</style></head><body><style>.X6ZCif{color:#202124;font-size:11px;line-height:16px;display:inline-block;padding-top:2px;overflow:hidden;padding-bottom:4px;width:100%}.TwVfHd{border-radius:16px;border:thin solid #dadce0;display:inline-block;padding:8px 8px;margin-right:8px;margin-bottom:4px}.yekiAe{background-color:#dadce0}.mnTahd{width:100%}.ezO2md{border:thin solid #dadce0;padding:12px 16px 12px 16px;margin-bottom:10px;font-family:arial,sans-serif}.lIMUZd{font-family:arial,sans-serif}.IkMU6e{border-spacing:0}.SjCsie{width:100%}.EnarA{text-align:center}.NZWO1b{width:162px;height:140px;line-height:140px;overflow:'hidden';text-align:center}.yWs4tf{text-align:center;margin:auto;vertical-align:middle;max-width:162px;max-height:140px}.jB2rPd{padding-top:2px;padding-bottom:8px;}.fYyStc{word-break:break-word}.ynsChf{display:block;white-space:nowrap;overflow:hidden;text-overflow:ellipsis}.Fj3V3b{color:#1967d2;font-size:14px;line-height:20px}.FrIlee{color:#202124;font-size:11px;line-height:16px}.F9iS2e{color:#70757a;font-size:11px;line-height:16px}.WMQ2Le{color:#70757a;font-size:12px;line-height:16px}.x3G5ab{color:#202124;font-size:12px;line-height:16px}.fuLhoc{color:#1967d2;font-size:16px;line-height:20px}.epoveb{font-size:24px;line-height:28px;font-weight:400;color:#202124}.dXDvrc{color:#0d652d;font-size:14px;line-height:20px;word-wrap:break-word}.dloBPe{font-weight:bold}.YVIcad{color:#70757a}.JkVVdd{color:#ea4335}.oXZRFd{color:#ea4335}.MQHtg{color:#fbbc04}.pyMRrb{color:#1e8e3e}.EtTZid{color:#1e8e3e}.M3vVJe{color:#1967d2}.qXLe6d{display:block}.NHQNef{font-style:italic}.Cb8Z7c{white-space:pre}a.ZWRArf{text-decoration:none}a .CVA68e:hover{text-decoration:underline}</style><div class=\"n692Zd\"><div class=\"BnJWBc\"><a class=\"lXLRf\" href=\"/?client=firefox-b-d&amp;sa=X&amp;hl=en&amp;biw=790&amp;bih=513&amp;output=images&amp;ie=UTF-8&amp;tbm=isch&amp;ved=0ahUKEwipoee88L2AAxU6UKQEHe1sAxUQPAgC\"><img alt=\"Google\" class=\"kgJEQe\" src=\"/images/branding/searchlogo/1x/googlelogo_desk_heirloom_color_150x55dp.gif\"/></a></div><div class=\"FbhRzb\"><form action=\"/search\"><input name=\"client\" type=\"hidden\" value=\"firefox-b-d\"/><input name=\"hl\" type=\"hidden\" value=\"en\"/><input name=\"biw\" type=\"hidden\" value=\"790\"/><input name=\"bih\" type=\"hidden\" value=\"513\"/><input name=\"ie\" type=\"hidden\" value=\"ISO-8859-1\"/><input name=\"tbm\" type=\"hidden\" value=\"isch\"/><input name=\"oq\" type=\"hidden\"/><input name=\"aqs\" type=\"hidden\"/><table class=\"cvifge\"><tr><td class=\"O4cRJf\"><input class=\"MhzMZd\" name=\"q\" type=\"text\" value=\"arthur schopenhauer\"/></td><td class=\"O1ePr\"><input class=\"xB0fq\" type=\"submit\" value=\"Search\"/></td></tr></table></form></div><div class=\"M7pB2\"><table class=\"euZec\"><tbody><tr><td><a class=\"CsQyDc\" href=\"/search?q=arthur+schopenhauer&amp;client=firefox-b-d&amp;hl=en&amp;biw=790&amp;bih=513&amp;ie=UTF-8&amp;source=lnms&amp;sa=X&amp;ved=0ahUKEwipoee88L2AAxU6UKQEHe1sAxUQ_AUIBCgA\">ALL</a></td><td class=\"EY24We\"><span class=\"QIqI7\">IMAGES</span></td><td><a class=\"CsQyDc\" href=\"/search?q=arthur+schopenhauer&amp;client=firefox-b-d&amp;hl=en&amp;biw=790&amp;bih=513&amp;ie=UTF-8&amp;tbm=bks&amp;source=lnms&amp;sa=X&amp;ved=0ahUKEwipoee88L2AAxU6UKQEHe1sAxUQ_AUIBigC\">BOOKS</a></td><td><a class=\"CsQyDc\" href=\"/search?q=arthur+schopenhauer&amp;client=firefox-b-d&amp;hl=en&amp;biw=790&amp;bih=513&amp;ie=UTF-8&amp;tbm=vid&amp;source=lnms&amp;sa=X&amp;ved=0ahUKEwipoee88L2AAxU6UKQEHe1sAxUQ_AUIBygD\">VIDEOS</a></td></tr></tbody></table></div></div><div class=\"X6ZCif\"><a class=\"TwVfHd\" href=\"/search?client=firefox-b-d&amp;hl=en&amp;biw=790&amp;bih=513&amp;ie=UTF-8&amp;tbm=isch&amp;q=arthur+schopenhauer&amp;chips=q:arthur+schopenhauer,g_1:portrait&amp;sa=X&amp;ved=0ahUKEwipoee88L2AAxU6UKQEHe1sAxUQ4lYICygA\">portrait</a><a class=\"TwVfHd\" href=\"/search?client=firefox-b-d&amp;hl=en&amp;biw=790&amp;bih=513&amp;ie=UTF-8&amp;tbm=isch&amp;q=arthur+schopenhauer&amp;chips=q:arthur+schopenhauer,g_1:friedrich+nietzsche&amp;sa=X&amp;ved=0ahUKEwipoee88L2AAxU6UKQEHe1sAxUQ4lYIDCgB\">friedrich nietzsche</a><a class=\"TwVfHd\" href=\"/search?client=firefox-b-d&amp;hl=en&amp;biw=790&amp;bih=513&amp;ie=UTF-8&amp;tbm=isch&amp;q=arthur+schopenhauer&amp;chips=q:arthur+schopenhauer,g_1:amor&amp;sa=X&amp;ved=0ahUKEwipoee88L2AAxU6UKQEHe1sAxUQ4lYIDSgC\">amor</a><a class=\"TwVfHd\" href=\"/search?client=firefox-b-d&amp;hl=en&amp;biw=790&amp;bih=513&amp;ie=UTF-8&amp;tbm=isch&amp;q=arthur+schopenhauer&amp;chips=q:arthur+schopenhauer,g_1:loneliness&amp;sa=X&amp;ved=0ahUKEwipoee88L2AAxU6UKQEHe1sAxUQ4lYIDigD\">loneliness</a><a class=\"TwVfHd\" href=\"/search?client=firefox-b-d&amp;hl=en&amp;biw=790&amp;bih=513&amp;ie=UTF-8&amp;tbm=isch&amp;q=arthur+schopenhauer&amp;chips=q:arthur+schopenhauer,g_1:wallpaper&amp;sa=X&amp;ved=0ahUKEwipoee88L2AAxU6UKQEHe1sAxUQ4lYIDygE\">wallpaper</a><a class=\"TwVfHd\" href=\"/search?client=firefox-b-d&amp;hl=en&amp;biw=790&amp;bih=513&amp;ie=UTF-8&amp;tbm=isch&amp;q=arthur+schopenhauer&amp;chips=q:arthur+schopenhauer,g_1:poster&amp;sa=X&amp;ved=0ahUKEwipoee88L2AAxU6UKQEHe1sAxUQ4lYIECgF\">poster</a><a class=\"TwVfHd\" href=\"/search?client=firefox-b-d&amp;hl=en&amp;biw=790&amp;bih=513&amp;ie=UTF-8&amp;tbm=isch&amp;q=arthur+schopenhauer&amp;chips=q:arthur+schopenhauer,g_1:painting&amp;sa=X&amp;ved=0ahUKEwipoee88L2AAxU6UKQEHe1sAxUQ4lYIESgG\">painting</a><a class=\"TwVfHd\" href=\"/search?client=firefox-b-d&amp;hl=en&amp;biw=790&amp;bih=513&amp;ie=UTF-8&amp;tbm=isch&amp;q=arthur+schopenhauer&amp;chips=q:arthur+schopenhauer,g_1:famous&amp;sa=X&amp;ved=0ahUKEwipoee88L2AAxU6UKQEHe1sAxUQ4lYIEigH\">famous</a><a class=\"TwVfHd\" href=\"/search?client=firefox-b-d&amp;hl=en&amp;biw=790&amp;bih=513&amp;ie=UTF-8&amp;tbm=isch&amp;q=arthur+schopenhauer&amp;chips=q:arthur+schopenhauer,g_1:biografia&amp;sa=X&amp;ved=0ahUKEwipoee88L2AAxU6UKQEHe1sAxUQ4lYIEygI\">biografia</a><a class=\"TwVfHd\" href=\"/search?client=firefox-b-d&amp;hl=en&amp;biw=790&amp;bih=513&amp;ie=UTF-8&amp;tbm=isch&amp;q=arthur+schopenhauer&amp;chips=q:arthur+schopenhauer,g_1:illustration&amp;sa=X&amp;ved=0ahUKEwipoee88L2AAxU6UKQEHe1sAxUQ4lYIFCgJ\">illustration</a></div><div><table class=\"GpQGbf\"><tr><td align=\"center\" class=\"e3goi\"><div class=\"mnTahd\"> <div> <div class=\"lIMUZd\"><div><table class=\"IkMU6e\"><tr><td><a href=\"/url?q=https://www.britannica.com/biography/Arthur-Schopenhauer&amp;sa=U&amp;ved=2ahUKEwipoee88L2AAxU6UKQEHe1sAxUQqoUBegQIARAB&amp;usg=AOvVaw1e-Nh-mSU4eQqCN0CcUCmO\"><div class=\"NZWO1b\"><img alt=\"\" class=\"yWs4tf\" src=\"https://encrypted-tbn0.gstatic.com/images?q=tbn:ANd9GcQovicu40M2RN0tXFcE2lCZz_aD6cfsfXpI31hN3EFHVebfavYjv-dVteVwRkA&amp;s\"/></div></a></td></tr><tr><td><a href=\"/url?q=https://www.britannica.com/biography/Arthur-Schopenhauer&amp;sa=U&amp;ved=2ahUKEwipoee88L2AAxU6UKQEHe1sAxUQr4kDegQIARAC&amp;usg=AOvVaw2lJB3Ks5usnF2dcne4EUOM\"><div class=\"jB2rPd\"> <span class=\"qXLe6d x3G5ab\"> <span class=\"fYyStc\">Arthur Schopenhauer |...</span> </span> <span class=\"qXLe6d F9iS2e\"> <span class=\"fYyStc\">www.britannica.com</span> </span> </div></a></td></tr></table></div></div> </div> </div></td><td align=\"center\" class=\"e3goi\"><div class=\"mnTahd\"> <div> <div class=\"lIMUZd\"><div><table class=\"IkMU6e\"><tr><td><a href=\"/url?q=https://en.wikipedia.org/wiki/Arthur_Schopenhauer&amp;sa=U&amp;ved=2ahUKEwipoee88L2AAxU6UKQEHe1sAxUQqoUBegQIExAB&amp;usg=AOvVaw0aA-_vbk5O8v2zstaISfID\"><div class=\"NZWO1b\"><img alt=\"\" class=\"yWs4tf\" src=\"https://encrypted-tbn0.gstatic.com/images?q=tbn:ANd9GcSfEcrGorOUTJ1E-1dfBQc-oNEXmRQYbE86k7mYzESO58qfIs6-4iCvXjYakSc&amp;s\"/></div></a></td></tr><tr><td><a href=\"/url?q=https://en.wikipedia.org/wiki/Arthur_Schopenhauer&amp;sa=U&amp;ved=2ahUKEwipoee88L2AAxU6UKQEHe1sAxUQr4kDegQIExAC&amp;usg=AOvVaw1kaiHGsfs-JhBO2VmmxVMQ\"><div class=\"jB2rPd\"> <span class=\"qXLe6d x3G5ab\"> <span class=\"fYyStc\">Arthur Schopenhauer -...</span> </span> <span class=\"qXLe6d F9iS2e\"> <span class=\"fYyStc\">en.wikipedia.org</span> </span> </div></a></td></tr></table></div></div> </div> </div></td><td align=\"center\" class=\"e3goi\"><div class=\"mnTahd\"> <div> <div class=\"lIMUZd\"><div><table class=\"IkMU6e\"><tr><td><a href=\"/url?q=https://www.britannica.com/biography/Arthur-Schopenhauer&amp;sa=U&amp;ved=2ahUKEwipoee88L2AAxU6UKQEHe1sAxUQqoUBegQIEhAB&amp;usg=AOvVaw0GJglEFe1rjGra4RKHZVML\"><div class=\"NZWO1b\"><img alt=\"\" class=\"yWs4tf\" src=\"https://encrypted-tbn0.gstatic.com/images?q=tbn:ANd9GcRI4g2Xa8obeU6ikGXayCO3xNBTstz9-YMJp81VzNrS9xnwnTq7zPG_v60_TQ&amp;s\"/></div></a></td></tr><tr><td><a href=\"/url?q=https://www.britannica.com/biography/Arthur-Schopenhauer&amp;sa=U&amp;ved=2ahUKEwipoee88L2AAxU6UKQEHe1sAxUQr4kDegQIEhAC&amp;usg=AOvVaw1TCMzFIdtaP6JOFOv5kEA4\"><div class=\"jB2rPd\"> <span class=\"qXLe6d x3G5ab\"> <span class=\"fYyStc\">Arthur Schopenhauer |...</span> </span> <span class=\"qXLe6d F9iS2e\"> <span class=\"fYyStc\">www.britannica.com</span> </span> </div></a></td></tr></table></div></div> </div> </div></td><td align=\"center\" class=\"e3goi\"><div class=\"mnTahd\"> <div> <div class=\"lIMUZd\"><div><table class=\"IkMU6e\"><tr><td><a href=\"/url?q=https://en.wikipedia.org/wiki/Arthur_Schopenhauer&amp;sa=U&amp;ved=2ahUKEwipoee88L2AAxU6UKQEHe1sAxUQqoUBegQICxAB&amp;usg=AOvVaw2vutGoQ963TnwruAJ2lsBR\"><div class=\"NZWO1b\"><img alt=\"\" class=\"yWs4tf\" src=\"https://encrypted-tbn0.gstatic.com/images?q=tbn:ANd9GcTKemg5YXzDpUy4orZqZnTJY80AdRxTwNvuDmOs7Eu1l7URSSnxeCSDhG-rKw&amp;s\"/></div></a></td></tr><tr><td><a href=\"/url?q=https://en.wikipedia.org/wiki/Arthur_Schopenhauer&amp;sa=U&amp;ved=2ahUKEwipoee88L2AAxU6UKQEHe1sAxUQr4kDegQICxAC&amp;usg=AOvVaw1lBg0OulhBN9UfP1MvMi3u\"><div class=\"jB2rPd\"> <span class=\"qXLe6d x3G5ab\"> <span class=\"fYyStc\">Arthur Schopenhauer -...</span> </span> <span class=\"qXLe6d F9iS2e\"> <span class=\"fYyStc\">en.wikipedia.org</span> </span> </div></a></td></tr></table></div></div> </div> </div></td></tr><tr><td align=\"center\" class=\"e3goi\"><div class=\"mnTahd\"> <div> <div class=\"lIMUZd\"><div><table class=\"IkMU6e\"><tr><td><a href=\"/url?q=https://www.thecollector.com/arthur-schopenhauer-the-great-pessimist/&amp;sa=U&amp;ved=2ahUKEwipoee88L2AAxU6UKQEHe1sAxUQqoUBegQIDBAB&amp;usg=AOvVaw2xhzhj4CHpT4EztB3ovPnq\"><div class=\"NZWO1b\"><img alt=\"\" class=\"yWs4tf\" src=\"https://encrypted-tbn0.gstatic.com/images?q=tbn:ANd9GcRAAUkDZteJA0jdvQN3rMmZwMpxLNYUvQ73vllgCqCPFhaXMDCLdLZ4mF_uCGM&amp;s\"/></div></a></td></tr><tr><td><a href=\"/url?q=https://www.thecollector.com/arthur-schopenhauer-the-great-pessimist/&amp;sa=U&amp;ved=2ahUKEwipoee88L2AAxU6UKQEHe1sAxUQr4kDegQIDBAC&amp;usg=AOvVaw0CA_FpsGEx5627hfphYwDs\"><div class=\"jB2rPd\"> <span class=\"qXLe6d x3G5ab\"> <span class=\"fYyStc\">Arthur Schopenhauer: “The...</span> </span> <span class=\"qXLe6d F9iS2e\"> <span class=\"fYyStc\">www.thecollector.com</span> </span> </div></a></td></tr></table></div></div> </div> </div></td><td align=\"center\" class=\"e3goi\"><div class=\"mnTahd\"> <div> <div class=\"lIMUZd\"><div><table class=\"IkMU6e\"><tr><td><a href=\"/url?q=https://en.wikiquote.org/wiki/Arthur_Schopenhauer&amp;sa=U&amp;ved=2ahUKEwipoee88L2AAxU6UKQEHe1sAxUQqoUBegQIEBAB&amp;usg=AOvVaw1WkMjgdmfmcqXp0YDkdhhk\"><div class=\"NZWO1b\"><img alt=\"\" class=\"yWs4tf\" src=\"https://encrypted-tbn0.gstatic.com/images?q=tbn:ANd9GcQrNaCxyKPQqCPpXRIp8Ov7EjdA6z3lPRrvvjtMxo9LjH5Hv-ubS1J8Wk7aog&amp;s\"/></div></a></td></tr><tr><td><a href=\"/url?q=https://en.wikiquote.org/wiki/Arthur_Schopenhauer&amp;sa=U&amp;ved=2ahUKEwipoee88L2AAxU6UKQEHe1sAxUQr4kDegQIEBAC&amp;usg=AOvVaw1j2Yoai5hinBf5qEWINuBh\"><div class=\"jB2rPd\"> <span class=\"qXLe6d x3G5ab\"> <span class=\"fYyStc\">Arthur Schopenhauer -...</span> </span> <span class=\"qXLe6d F9iS2e\"> <span class=\"fYyStc\">en.wikiquote.org</span> </span> </div></a></td></tr></table></div></div> </div> </div></td><td align=\"center\" class=\"e3goi\"><div class=\"mnTahd\"> <div> <div class=\"lIMUZd\"><div><table class=\"IkMU6e\"><tr><td><a href=\"/url?q=https://medium.com/%40AndrewIsaacs/5-life-lessons-from-arthur-schopenhauer-d5eb427a1f6&amp;sa=U&amp;ved=2ahUKEwipoee88L2AAxU6UKQEHe1sAxUQqoUBegQIERAB&amp;usg=AOvVaw1rAtt-Vg6EN-hhj7J96dNp\"><div class=\"NZWO1b\"><img alt=\"\" class=\"yWs4tf\" src=\"https://encrypted-tbn0.gstatic.com/images?q=tbn:ANd9GcTfVv7msFJz_UcRxg2HPMTI8nf649zbXUZCJc5DtMFtYXilQn4CW0kWt9DDfYI&amp;s\"/></div></a></td></tr><tr><td><a href=\"/url?q=https://medium.com/%40AndrewIsaacs/5-life-lessons-from-arthur-schopenhauer-d5eb427a1f6&amp;sa=U&amp;ved=2ahUKEwipoee88L2AAxU6UKQEHe1sAxUQr4kDegQIERAC&amp;usg=AOvVaw328G-jr25EEd4DcXazAwzD\"><div class=\"jB2rPd\"> <span class=\"qXLe6d x3G5ab\"> <span class=\"fYyStc\">5 Life Lessons from Arthur...</span> </span> <span class=\"qXLe6d F9iS2e\"> <span class=\"fYyStc\">medium.com</span> </span> </div></a></td></tr></table></div></div> </div> </div></td><td align=\"center\" class=\"e3goi\"><div class=\"mnTahd\"> <div> <div class=\"lIMUZd\"><div><table class=\"IkMU6e\"><tr><td><a href=\"/url?q=https://literariness.org/2018/01/04/the-philosophy-of-arthur-schopenhauer/&amp;sa=U&amp;ved=2ahUKEwipoee88L2AAxU6UKQEHe1sAxUQqoUBegQIDhAB&amp;usg=AOvVaw2dYHtJUGBL_kFJO7lL-I7U\"><div class=\"NZWO1b\"><img alt=\"\" class=\"yWs4tf\" src=\"https://encrypted-tbn0.gstatic.com/images?q=tbn:ANd9GcTHHyXhJXaH_nxXgkDOmkxFYPfFU9xk9BRXyTb1RtjY5xULSzLgzh7QXFdmpw&amp;s\"/></div></a></td></tr><tr><td><a href=\"/url?q=https://literariness.org/2018/01/04/the-philosophy-of-arthur-schopenhauer/&amp;sa=U&amp;ved=2ahUKEwipoee88L2AAxU6UKQEHe1sAxUQr4kDegQIDhAC&amp;usg=AOvVaw23Y1rG5QLmmrYkjp87czoL\"><div class=\"jB2rPd\"> <span class=\"qXLe6d x3G5ab\"> <span class=\"fYyStc\">The Philosophy of Arthur...</span> </span> <span class=\"qXLe6d F9iS2e\"> <span class=\"fYyStc\">literariness.org</span> </span> </div></a></td></tr></table></div></div> </div> </div></td></tr><tr><td align=\"center\" class=\"e3goi\"><div class=\"mnTahd\"> <div> <div class=\"lIMUZd\"><div><table class=\"IkMU6e\"><tr><td><a href=\"/url?q=https://www.thecollector.com/arthur-schopenhauer-the-great-pessimist/&amp;sa=U&amp;ved=2ahUKEwipoee88L2AAxU6UKQEHe1sAxUQqoUBegQICRAB&amp;usg=AOvVaw37qfQoSyNZ9j0udXz37dHO\"><div class=\"NZWO1b\"><img alt=\"\" class=\"yWs4tf\" src=\"https://encrypted-tbn0.gstatic.com/images?q=tbn:ANd9GcRs1bB9oO2ocWuv3UOc6WfJNtCdO0yeSvLnLPuJcRNH4jYKqM6-j9eWUNT-7g&amp;s\"/></div></a></td></tr><tr><td><a href=\"/url?q=https://www.thecollector.com/arthur-schopenhauer-the-great-pessimist/&amp;sa=U&amp;ved=2ahUKEwipoee88L2AAxU6UKQEHe1sAxUQr4kDegQICRAC&amp;usg=AOvVaw2RsX_zVrav7UhFqI0NgHmC\"><div class=\"jB2rPd\"> <span class=\"qXLe6d x3G5ab\"> <span class=\"fYyStc\">Arthur Schopenhauer: “The...</span> </span> <span class=\"qXLe6d F9iS2e\"> <span class=\"fYyStc\">www.thecollector.com</span> </span> </div></a></td></tr></table></div></div> </div> </div></td><td align=\"center\" class=\"e3goi\"><div class=\"mnTahd\"> <div> <div class=\"lIMUZd\"><div><table class=\"IkMU6e\"><tr><td><a href=\"/url?q=https://dialecticspiritualism.com/about-arthur-schopenhauer/&amp;sa=U&amp;ved=2ahUKEwipoee88L2AAxU6UKQEHe1sAxUQqoUBegQIDxAB&amp;usg=AOvVaw1JwqQBMUkEDNItSTporjBl\"><div class=\"NZWO1b\"><img alt=\"\" class=\"yWs4tf\" src=\"https://encrypted-tbn0.gstatic.com/images?q=tbn:ANd9GcQzrP-UZfRVVfj9bBvnFmkSXsYVsgMw1148qJ2Bt7_MeTn2fsyRWItUhyCdmw&amp;s\"/></div></a></td></tr><tr><td><a href=\"/url?q=https://dialecticspiritualism.com/about-arthur-schopenhauer/&amp;sa=U&amp;ved=2ahUKEwipoee88L2AAxU6UKQEHe1sAxUQr4kDegQIDxAC&amp;usg=AOvVaw0hbVbSXDZbto0KVmR0fsnK\"><div class=\"jB2rPd\"> <span class=\"qXLe6d x3G5ab\"> <span class=\"fYyStc\">About Arthur Schopenhauer -...</span> </span> <span class=\"qXLe6d F9iS2e\"> <span class=\"fYyStc\">dialecticspiritualism.com</span> </span> </div></a></td></tr></table></div></div> </div> </div></td><td align=\"center\" class=\"e3goi\"><div class=\"mnTahd\"> <div> <div class=\"lIMUZd\"><div><table class=\"IkMU6e\"><tr><td><a href=\"/url?q=https://derrenbrown.co.uk/art/arthur-schopenhauer/&amp;sa=U&amp;ved=2ahUKEwipoee88L2AAxU6UKQEHe1sAxUQqoUBegQIChAB&amp;usg=AOvVaw0T05dWbpVLq2bUcbYxuOO4\"><div class=\"NZWO1b\"><img alt=\"\" class=\"yWs4tf\" src=\"https://encrypted-tbn0.gstatic.com/images?q=tbn:ANd9GcTHUQn0zLQ36cOWMLz9agXRpkIzx3Px2Xmf_cXKU68Wd3B4GaKbR3ahJc7V_w&amp;s\"/></div></a></td></tr><tr><td><a href=\"/url?q=https://derrenbrown.co.uk/art/arthur-schopenhauer/&amp;sa=U&amp;ved=2ahUKEwipoee88L2AAxU6UKQEHe1sAxUQr4kDegQIChAC&amp;usg=AOvVaw10E2yPSNhOdWQu0j4LxjWc\"><div class=\"jB2rPd\"> <span class=\"qXLe6d x3G5ab\"> <span class=\"fYyStc\">Arthur Schopenhauer |...</span> </span> <span class=\"qXLe6d F9iS2e\"> <span class=\"fYyStc\">derrenbrown.co.uk</span> </span> </div></a></td></tr></table></div></div> </div> </div></td><td align=\"center\" class=\"e3goi\"><div class=\"mnTahd\"> <div> <div class=\"lIMUZd\"><div><table class=\"IkMU6e\"><tr><td><a href=\"/url?q=https://derrenbrown.co.uk/art/arthur-schopenhauer/&amp;sa=U&amp;ved=2ahUKEwipoee88L2AAxU6UKQEHe1sAxUQqoUBegQIDRAB&amp;usg=AOvVaw2HpJzQhd6m03nrrgWoyeSH\"><div class=\"NZWO1b\"><img alt=\"\" class=\"yWs4tf\" src=\"https://encrypted-tbn0.gstatic.com/images?q=tbn:ANd9GcT1GVtLZDY3qrHllOloGca6Wc4Lp7obmY83pwVeraGcHa2ZsFmr8wCi9a5c&amp;s\"/></div></a></td></tr><tr><td><a href=\"/url?q=https://derrenbrown.co.uk/art/arthur-schopenhauer/&amp;sa=U&amp;ved=2ahUKEwipoee88L2AAxU6UKQEHe1sAxUQr4kDegQIDRAC&amp;usg=AOvVaw2UFKoffsc_ghNwKf5qbC5d\"><div class=\"jB2rPd\"> <span class=\"qXLe6d x3G5ab\"> <span class=\"fYyStc\">Arthur Schopenhauer |...</span> </span> <span class=\"qXLe6d F9iS2e\"> <span class=\"fYyStc\">derrenbrown.co.uk</span> </span> </div></a></td></tr></table></div></div> </div> </div></td></tr><tr><td align=\"center\" class=\"e3goi\"><div class=\"mnTahd\"> <div> <div class=\"lIMUZd\"><div><table class=\"IkMU6e\"><tr><td><a href=\"/url?q=https://www.3-16am.co.uk/blog/exclusive-3-16-interview-with-arthur-schopenhauer&amp;sa=U&amp;ved=2ahUKEwipoee88L2AAxU6UKQEHe1sAxUQqoUBegQIBBAB&amp;usg=AOvVaw1SJqScRF_K2lK41_0qdZdU\"><div class=\"NZWO1b\"><img alt=\"\" class=\"yWs4tf\" src=\"https://encrypted-tbn0.gstatic.com/images?q=tbn:ANd9GcSjjzVR4L9xgH1pPqdtq7PP4vQWVNUY36HoWA4ieSvhGv4yw4NIN7JsYY_lQA&amp;s\"/></div></a></td></tr><tr><td><a href=\"/url?q=https://www.3-16am.co.uk/blog/exclusive-3-16-interview-with-arthur-schopenhauer&amp;sa=U&amp;ved=2ahUKEwipoee88L2AAxU6UKQEHe1sAxUQr4kDegQIBBAC&amp;usg=AOvVaw3-ba92cRdXjYljkmFh54lR\"><div class=\"jB2rPd\"> <span class=\"qXLe6d x3G5ab\"> <span class=\"fYyStc\">Exclusive 3:16 Interview...</span> </span> <span class=\"qXLe6d F9iS2e\"> <span class=\"fYyStc\">www.3-16am.co.uk</span> </span> </div></a></td></tr></table></div></div> </div> </div></td><td align=\"center\" class=\"e3goi\"><div class=\"mnTahd\"> <div> <div class=\"lIMUZd\"><div><table class=\"IkMU6e\"><tr><td><a href=\"/url?q=https://www.myartprints.co.uk/a/goebel-angilbert/portrait-of-arthur-schope.html&amp;sa=U&amp;ved=2ahUKEwipoee88L2AAxU6UKQEHe1sAxUQqoUBegQICBAB&amp;usg=AOvVaw1FYwzcoTXeDn2i1cU8hkp-\"><div class=\"NZWO1b\"><img alt=\"\" class=\"yWs4tf\" src=\"https://encrypted-tbn0.gstatic.com/images?q=tbn:ANd9GcRfB5Gz9isRiQ5j6lYyM1FuLjl8JbVmdZkp_5ioCaY9tgKoUeVjGM7lzxZsZt8&amp;s\"/></div></a></td></tr><tr><td><a href=\"/url?q=https://www.myartprints.co.uk/a/goebel-angilbert/portrait-of-arthur-schope.html&amp;sa=U&amp;ved=2ahUKEwipoee88L2AAxU6UKQEHe1sAxUQr4kDegQICBAC&amp;usg=AOvVaw12Qobvo4Yc6oJh1EtaPkIl\"><div class=\"jB2rPd\"> <span class=\"qXLe6d x3G5ab\"> <span class=\"fYyStc\">Portrait of Arthur...</span> </span> <span class=\"qXLe6d F9iS2e\"> <span class=\"fYyStc\">www.myartprints.co.uk</span> </span> </div></a></td></tr></table></div></div> </div> </div></td><td align=\"center\" class=\"e3goi\"><div class=\"mnTahd\"> <div> <div class=\"lIMUZd\"><div><table class=\"IkMU6e\"><tr><td><a href=\"/url?q=https://www.meisterdrucke.ie/fine-art-prints/German-School/655028/Arthur-Schopenhauer,-1884-90-(phototype).html&amp;sa=U&amp;ved=2ahUKEwipoee88L2AAxU6UKQEHe1sAxUQqoUBegQIBhAB&amp;usg=AOvVaw0Z5691kG81Y_f-1YPaKAzU\"><div class=\"NZWO1b\"><img alt=\"\" class=\"yWs4tf\" src=\"https://encrypted-tbn0.gstatic.com/images?q=tbn:ANd9GcR1W4TP5VzDrRT3jERC51vJiUG-tDB-0QkHW4-YxRG8wfTK1hWDxcEp9qlv8w&amp;s\"/></div></a></td></tr><tr><td><a href=\"/url?q=https://www.meisterdrucke.ie/fine-art-prints/German-School/655028/Arthur-Schopenhauer,-1884-90-(phototype).html&amp;sa=U&amp;ved=2ahUKEwipoee88L2AAxU6UKQEHe1sAxUQr4kDegQIBhAC&amp;usg=AOvVaw3nJ9vVGXcWGSoTgZE00itN\"><div class=\"jB2rPd\"> <span class=\"qXLe6d x3G5ab\"> <span class=\"fYyStc\">Arthur Schopenhauer,...</span> </span> <span class=\"qXLe6d F9iS2e\"> <span class=\"fYyStc\">www.meisterdrucke.ie</span> </span> </div></a></td></tr></table></div></div> </div> </div></td><td align=\"center\" class=\"e3goi\"><div class=\"mnTahd\"> <div> <div class=\"lIMUZd\"><div><table class=\"IkMU6e\"><tr><td><a href=\"/url?q=https://www.saatchiart.com/art/Collage-Arthur-Schopenhauer/68328/1553251/view&amp;sa=U&amp;ved=2ahUKEwipoee88L2AAxU6UKQEHe1sAxUQqoUBegQIABAB&amp;usg=AOvVaw2Ts2lBePNGcjfe_EFP6rLz\"><div class=\"NZWO1b\"><img alt=\"\" class=\"yWs4tf\" src=\"https://encrypted-tbn0.gstatic.com/images?q=tbn:ANd9GcRvIrb2317A626o8TpSPfE1bWBLjaEvWG5l0fI2nJSie4rXlQScg88SEWtjTw&amp;s\"/></div></a></td></tr><tr><td><a href=\"/url?q=https://www.saatchiart.com/art/Collage-Arthur-Schopenhauer/68328/1553251/view&amp;sa=U&amp;ved=2ahUKEwipoee88L2AAxU6UKQEHe1sAxUQr4kDegQIABAC&amp;usg=AOvVaw2EbRbD4DzBv2GUoUDIbvDY\"><div class=\"jB2rPd\"> <span class=\"qXLe6d x3G5ab\"> <span class=\"fYyStc\">Arthur Schopenhauer Collage...</span> </span> <span class=\"qXLe6d F9iS2e\"> <span class=\"fYyStc\">www.saatchiart.com</span> </span> </div></a></td></tr></table></div></div> </div> </div></td></tr><tr><td align=\"center\" class=\"e3goi\"><div class=\"mnTahd\"> <div> <div class=\"lIMUZd\"><div><table class=\"IkMU6e\"><tr><td><a href=\"/url?q=https://commons.wikimedia.org/wiki/File:Arthur_Schopenhauer_by_J_Sch%25C3%25A4fer,_1859.jpg&amp;sa=U&amp;ved=2ahUKEwipoee88L2AAxU6UKQEHe1sAxUQqoUBegQIAxAB&amp;usg=AOvVaw0FkIqIKoNQX5KnRvIdP6fJ\"><div class=\"NZWO1b\"><img alt=\"\" class=\"yWs4tf\" src=\"https://encrypted-tbn0.gstatic.com/images?q=tbn:ANd9GcREirobsQzw_UKrGoc8R-V-kUpWd6STi3GcmCfFVz9c2hQbjB9VZS23Ypv1kfI&amp;s\"/></div></a></td></tr><tr><td><a href=\"/url?q=https://commons.wikimedia.org/wiki/File:Arthur_Schopenhauer_by_J_Sch%25C3%25A4fer,_1859.jpg&amp;sa=U&amp;ved=2ahUKEwipoee88L2AAxU6UKQEHe1sAxUQr4kDegQIAxAC&amp;usg=AOvVaw0BMLHwgzaxrkSYwHR_J28e\"><div class=\"jB2rPd\"> <span class=\"qXLe6d x3G5ab\"> <span class=\"fYyStc\">File:Arthur Schopenhauer by...</span> </span> <span class=\"qXLe6d F9iS2e\"> <span class=\"fYyStc\">commons.wikimedia.org</span> </span> </div></a></td></tr></table></div></div> </div> </div></td><td align=\"center\" class=\"e3goi\"><div class=\"mnTahd\"> <div> <div class=\"lIMUZd\"><div><table class=\"IkMU6e\"><tr><td><a href=\"/url?q=https://www.etsy.com/listing/1431617229/portrait-of-arthur-schopenhauer-ai-art&amp;sa=U&amp;ved=2ahUKEwipoee88L2AAxU6UKQEHe1sAxUQqoUBegQIAhAB&amp;usg=AOvVaw1X6WDw1u40_um2LuGw26-M\"><div class=\"NZWO1b\"><img alt=\"\" class=\"yWs4tf\" src=\"https://encrypted-tbn0.gstatic.com/images?q=tbn:ANd9GcSsBEo3cIeFs4FBl-6vWfOR8gtYbkjbG2XCdr3CeqnNjFG0R93DPJo88VB5Dzw&amp;s\"/></div></a></td></tr><tr><td><a href=\"/url?q=https://www.etsy.com/listing/1431617229/portrait-of-arthur-schopenhauer-ai-art&amp;sa=U&amp;ved=2ahUKEwipoee88L2AAxU6UKQEHe1sAxUQr4kDegQIAhAC&amp;usg=AOvVaw1haEnaVBzpRpANwZGsq0JZ\"><div class=\"jB2rPd\"> <span class=\"qXLe6d x3G5ab\"> <span class=\"fYyStc\">Portrait of Arthur...</span> </span> <span class=\"qXLe6d F9iS2e\"> <span class=\"fYyStc\">www.etsy.com</span> </span> </div></a></td></tr></table></div></div> </div> </div></td><td align=\"center\" class=\"e3goi\"><div class=\"mnTahd\"> <div> <div class=\"lIMUZd\"><div><table class=\"IkMU6e\"><tr><td><a href=\"/url?q=https://www.meisterdrucke.ie/fine-art-prints/Unknown-photographer/1024399/Arthur-Schopenhauer-(1788-1860),-German-philosopher..html&amp;sa=U&amp;ved=2ahUKEwipoee88L2AAxU6UKQEHe1sAxUQqoUBegQIBRAB&amp;usg=AOvVaw0P9pzhOdHTLkEgNuZWE1rw\"><div class=\"NZWO1b\"><img alt=\"\" class=\"yWs4tf\" src=\"https://encrypted-tbn0.gstatic.com/images?q=tbn:ANd9GcSIxFkmtfkG94Qxieg1njMUBLHwkgD7PTPpZB91a0YYpVaeRL7ml3eABMcCl4A&amp;s\"/></div></a></td></tr><tr><td><a href=\"/url?q=https://www.meisterdrucke.ie/fine-art-prints/Unknown-photographer/1024399/Arthur-Schopenhauer-(1788-1860),-German-philosopher..html&amp;sa=U&amp;ved=2ahUKEwipoee88L2AAxU6UKQEHe1sAxUQr4kDegQIBRAC&amp;usg=AOvVaw11REXsOqkoKEDOLlJWs25W\"><div class=\"jB2rPd\"> <span class=\"qXLe6d x3G5ab\"> <span class=\"fYyStc\">Arthur Schopenhauer...</span> </span> <span class=\"qXLe6d F9iS2e\"> <span class=\"fYyStc\">www.meisterdrucke.ie</span> </span> </div></a></td></tr></table></div></div> </div> </div></td><td align=\"center\" class=\"e3goi\"><div class=\"mnTahd\"> <div> <div class=\"lIMUZd\"><div><table class=\"IkMU6e\"><tr><td><a href=\"/url?q=https://luchte.wordpress.com/the-body-of-sublime-knowledge-the-aesthetic-phenomenology-of-arthur-schopenhauer/&amp;sa=U&amp;ved=2ahUKEwipoee88L2AAxU6UKQEHe1sAxUQqoUBegQIBxAB&amp;usg=AOvVaw3EzAAX4pVG-G07cP7hAyll\"><div class=\"NZWO1b\"><img alt=\"\" class=\"yWs4tf\" src=\"https://encrypted-tbn0.gstatic.com/images?q=tbn:ANd9GcQDPbtcA2s1cFBJ5qQ2cBnvuP4U4o9UyqGO29UVJnbW27sElaiQddONfX6JGA&amp;s\"/></div></a></td></tr><tr><td><a href=\"/url?q=https://luchte.wordpress.com/the-body-of-sublime-knowledge-the-aesthetic-phenomenology-of-arthur-schopenhauer/&amp;sa=U&amp;ved=2ahUKEwipoee88L2AAxU6UKQEHe1sAxUQr4kDegQIBxAC&amp;usg=AOvVaw2-tb8jwV42oD8DLaZKroSW\"><div class=\"jB2rPd\"> <span class=\"qXLe6d x3G5ab\"> <span class=\"fYyStc\">The Body of Sublime...</span> </span> <span class=\"qXLe6d F9iS2e\"> <span class=\"fYyStc\">luchte.wordpress.com</span> </span> </div></a></td></tr></table></div></div> </div> </div></td></tr></table></div><table class=\"uZgmoc\"><tbody><td><a class=\"frGj1b\" href=\"/search?q=arthur+schopenhauer&amp;client=firefox-b-d&amp;hl=en&amp;biw=790&amp;bih=513&amp;ie=UTF-8&amp;tbm=isch&amp;ei=_D7KZKmzJLqgkdUP7dmNqAE&amp;start=20&amp;sa=N\">Next &gt;</a></td></tbody></table><br/><div class=\"TuS8Ad\" data-ved=\"0ahUKEwipoee88L2AAxU6UKQEHe1sAxUQpyoIUg\"><style>.VYM29{font-weight:bold}</style><div align=\"center\" class=\"HddGcc\"><span class=\"VYM29\">Kasarani Constituency, Nairobi</span><span> - </span><span>From your IP address</span><span> - </span><a href=\"/url?q=https://support.google.com/websearch%3Fp%3Dws_settings_location%26hl%3Den-KE&amp;sa=U&amp;ved=0ahUKEwipoee88L2AAxU6UKQEHe1sAxUQty4IUw&amp;usg=AOvVaw3b6ovAduu6o_Vhisr5poUF\">Learn more</a></div><div align=\"center\"><a class=\"rEM8G\" href=\"/url?q=https://accounts.google.com/ServiceLogin%3Fcontinue%3Dhttps://www.google.com/search%253Fq%253Darthur%252Bschopenhauer%2526client%253Dfirefox-b-d%2526hl%253Den%2526tbm%253Disch%2526sxsrf%253DAB5stBjO2gOPuZshYnkB2TSg7dmDOwhgnA:1690968627846%2526source%253Dlnms%2526sa%253DX%2526ved%253D2ahUKEwic-I2D1b2AAxVbdqQEHQy_AYwQ0pQJegQIAxAE%2526biw%253D790%2526bih%253D513%2526dpr%253D1.5%26hl%3Den&amp;sa=U&amp;ved=0ahUKEwipoee88L2AAxU6UKQEHe1sAxUQxs8CCFQ&amp;usg=AOvVaw1U_yZRxn2rRC-FmQf4T8LF\">Sign in</a></div><div><table class=\"bookcf\"><tbody class=\"InWNIe\"><tr><td><a class=\"rEM8G\" href=\"https://www.google.com/preferences?hl=en&amp;client=firefox-b-d&amp;sa=X&amp;ved=0ahUKEwipoee88L2AAxU6UKQEHe1sAxUQv5YECFU\">Settings</a></td><td><a class=\"rEM8G\" href=\"https://www.google.com/intl/en_ke/policies/privacy/\">Privacy</a></td><td><a class=\"rEM8G\" href=\"https://www.google.com/intl/en_ke/policies/terms/\">Terms</a></td></tr></tbody></table></div></div><div> </div></body></html>"
      ]
     },
     "execution_count": 15,
     "metadata": {},
     "output_type": "execute_result"
    }
   ],
   "source": [
    "soup"
   ]
  },
  {
   "cell_type": "code",
   "execution_count": 21,
   "id": "c68b310c",
   "metadata": {},
   "outputs": [],
   "source": [
    "img_tags = soup.find_all(\"img\")"
   ]
  },
  {
   "cell_type": "code",
   "execution_count": 22,
   "id": "8955eaa6",
   "metadata": {},
   "outputs": [
    {
     "data": {
      "text/plain": [
       "[<img alt=\"Google\" class=\"kgJEQe\" src=\"/images/branding/searchlogo/1x/googlelogo_desk_heirloom_color_150x55dp.gif\"/>,\n",
       " <img alt=\"\" class=\"yWs4tf\" src=\"https://encrypted-tbn0.gstatic.com/images?q=tbn:ANd9GcQovicu40M2RN0tXFcE2lCZz_aD6cfsfXpI31hN3EFHVebfavYjv-dVteVwRkA&amp;s\"/>,\n",
       " <img alt=\"\" class=\"yWs4tf\" src=\"https://encrypted-tbn0.gstatic.com/images?q=tbn:ANd9GcSfEcrGorOUTJ1E-1dfBQc-oNEXmRQYbE86k7mYzESO58qfIs6-4iCvXjYakSc&amp;s\"/>,\n",
       " <img alt=\"\" class=\"yWs4tf\" src=\"https://encrypted-tbn0.gstatic.com/images?q=tbn:ANd9GcRI4g2Xa8obeU6ikGXayCO3xNBTstz9-YMJp81VzNrS9xnwnTq7zPG_v60_TQ&amp;s\"/>,\n",
       " <img alt=\"\" class=\"yWs4tf\" src=\"https://encrypted-tbn0.gstatic.com/images?q=tbn:ANd9GcTKemg5YXzDpUy4orZqZnTJY80AdRxTwNvuDmOs7Eu1l7URSSnxeCSDhG-rKw&amp;s\"/>,\n",
       " <img alt=\"\" class=\"yWs4tf\" src=\"https://encrypted-tbn0.gstatic.com/images?q=tbn:ANd9GcRAAUkDZteJA0jdvQN3rMmZwMpxLNYUvQ73vllgCqCPFhaXMDCLdLZ4mF_uCGM&amp;s\"/>,\n",
       " <img alt=\"\" class=\"yWs4tf\" src=\"https://encrypted-tbn0.gstatic.com/images?q=tbn:ANd9GcQrNaCxyKPQqCPpXRIp8Ov7EjdA6z3lPRrvvjtMxo9LjH5Hv-ubS1J8Wk7aog&amp;s\"/>,\n",
       " <img alt=\"\" class=\"yWs4tf\" src=\"https://encrypted-tbn0.gstatic.com/images?q=tbn:ANd9GcTfVv7msFJz_UcRxg2HPMTI8nf649zbXUZCJc5DtMFtYXilQn4CW0kWt9DDfYI&amp;s\"/>,\n",
       " <img alt=\"\" class=\"yWs4tf\" src=\"https://encrypted-tbn0.gstatic.com/images?q=tbn:ANd9GcTHHyXhJXaH_nxXgkDOmkxFYPfFU9xk9BRXyTb1RtjY5xULSzLgzh7QXFdmpw&amp;s\"/>,\n",
       " <img alt=\"\" class=\"yWs4tf\" src=\"https://encrypted-tbn0.gstatic.com/images?q=tbn:ANd9GcRs1bB9oO2ocWuv3UOc6WfJNtCdO0yeSvLnLPuJcRNH4jYKqM6-j9eWUNT-7g&amp;s\"/>,\n",
       " <img alt=\"\" class=\"yWs4tf\" src=\"https://encrypted-tbn0.gstatic.com/images?q=tbn:ANd9GcQzrP-UZfRVVfj9bBvnFmkSXsYVsgMw1148qJ2Bt7_MeTn2fsyRWItUhyCdmw&amp;s\"/>,\n",
       " <img alt=\"\" class=\"yWs4tf\" src=\"https://encrypted-tbn0.gstatic.com/images?q=tbn:ANd9GcTHUQn0zLQ36cOWMLz9agXRpkIzx3Px2Xmf_cXKU68Wd3B4GaKbR3ahJc7V_w&amp;s\"/>,\n",
       " <img alt=\"\" class=\"yWs4tf\" src=\"https://encrypted-tbn0.gstatic.com/images?q=tbn:ANd9GcT1GVtLZDY3qrHllOloGca6Wc4Lp7obmY83pwVeraGcHa2ZsFmr8wCi9a5c&amp;s\"/>,\n",
       " <img alt=\"\" class=\"yWs4tf\" src=\"https://encrypted-tbn0.gstatic.com/images?q=tbn:ANd9GcSjjzVR4L9xgH1pPqdtq7PP4vQWVNUY36HoWA4ieSvhGv4yw4NIN7JsYY_lQA&amp;s\"/>,\n",
       " <img alt=\"\" class=\"yWs4tf\" src=\"https://encrypted-tbn0.gstatic.com/images?q=tbn:ANd9GcRfB5Gz9isRiQ5j6lYyM1FuLjl8JbVmdZkp_5ioCaY9tgKoUeVjGM7lzxZsZt8&amp;s\"/>,\n",
       " <img alt=\"\" class=\"yWs4tf\" src=\"https://encrypted-tbn0.gstatic.com/images?q=tbn:ANd9GcR1W4TP5VzDrRT3jERC51vJiUG-tDB-0QkHW4-YxRG8wfTK1hWDxcEp9qlv8w&amp;s\"/>,\n",
       " <img alt=\"\" class=\"yWs4tf\" src=\"https://encrypted-tbn0.gstatic.com/images?q=tbn:ANd9GcRvIrb2317A626o8TpSPfE1bWBLjaEvWG5l0fI2nJSie4rXlQScg88SEWtjTw&amp;s\"/>,\n",
       " <img alt=\"\" class=\"yWs4tf\" src=\"https://encrypted-tbn0.gstatic.com/images?q=tbn:ANd9GcREirobsQzw_UKrGoc8R-V-kUpWd6STi3GcmCfFVz9c2hQbjB9VZS23Ypv1kfI&amp;s\"/>,\n",
       " <img alt=\"\" class=\"yWs4tf\" src=\"https://encrypted-tbn0.gstatic.com/images?q=tbn:ANd9GcSsBEo3cIeFs4FBl-6vWfOR8gtYbkjbG2XCdr3CeqnNjFG0R93DPJo88VB5Dzw&amp;s\"/>,\n",
       " <img alt=\"\" class=\"yWs4tf\" src=\"https://encrypted-tbn0.gstatic.com/images?q=tbn:ANd9GcSIxFkmtfkG94Qxieg1njMUBLHwkgD7PTPpZB91a0YYpVaeRL7ml3eABMcCl4A&amp;s\"/>,\n",
       " <img alt=\"\" class=\"yWs4tf\" src=\"https://encrypted-tbn0.gstatic.com/images?q=tbn:ANd9GcQDPbtcA2s1cFBJ5qQ2cBnvuP4U4o9UyqGO29UVJnbW27sElaiQddONfX6JGA&amp;s\"/>]"
      ]
     },
     "execution_count": 22,
     "metadata": {},
     "output_type": "execute_result"
    }
   ],
   "source": [
    "img_tags #collecting images "
   ]
  },
  {
   "cell_type": "code",
   "execution_count": 28,
   "id": "e8b3c3a6",
   "metadata": {},
   "outputs": [],
   "source": [
    "del img_tags[0] #deleting first row, header"
   ]
  },
  {
   "cell_type": "code",
   "execution_count": 29,
   "id": "8e87bad3",
   "metadata": {},
   "outputs": [
    {
     "data": {
      "text/plain": [
       "[<img alt=\"\" class=\"yWs4tf\" src=\"https://encrypted-tbn0.gstatic.com/images?q=tbn:ANd9GcSfEcrGorOUTJ1E-1dfBQc-oNEXmRQYbE86k7mYzESO58qfIs6-4iCvXjYakSc&amp;s\"/>,\n",
       " <img alt=\"\" class=\"yWs4tf\" src=\"https://encrypted-tbn0.gstatic.com/images?q=tbn:ANd9GcRI4g2Xa8obeU6ikGXayCO3xNBTstz9-YMJp81VzNrS9xnwnTq7zPG_v60_TQ&amp;s\"/>,\n",
       " <img alt=\"\" class=\"yWs4tf\" src=\"https://encrypted-tbn0.gstatic.com/images?q=tbn:ANd9GcTKemg5YXzDpUy4orZqZnTJY80AdRxTwNvuDmOs7Eu1l7URSSnxeCSDhG-rKw&amp;s\"/>,\n",
       " <img alt=\"\" class=\"yWs4tf\" src=\"https://encrypted-tbn0.gstatic.com/images?q=tbn:ANd9GcRAAUkDZteJA0jdvQN3rMmZwMpxLNYUvQ73vllgCqCPFhaXMDCLdLZ4mF_uCGM&amp;s\"/>,\n",
       " <img alt=\"\" class=\"yWs4tf\" src=\"https://encrypted-tbn0.gstatic.com/images?q=tbn:ANd9GcQrNaCxyKPQqCPpXRIp8Ov7EjdA6z3lPRrvvjtMxo9LjH5Hv-ubS1J8Wk7aog&amp;s\"/>,\n",
       " <img alt=\"\" class=\"yWs4tf\" src=\"https://encrypted-tbn0.gstatic.com/images?q=tbn:ANd9GcTfVv7msFJz_UcRxg2HPMTI8nf649zbXUZCJc5DtMFtYXilQn4CW0kWt9DDfYI&amp;s\"/>,\n",
       " <img alt=\"\" class=\"yWs4tf\" src=\"https://encrypted-tbn0.gstatic.com/images?q=tbn:ANd9GcTHHyXhJXaH_nxXgkDOmkxFYPfFU9xk9BRXyTb1RtjY5xULSzLgzh7QXFdmpw&amp;s\"/>,\n",
       " <img alt=\"\" class=\"yWs4tf\" src=\"https://encrypted-tbn0.gstatic.com/images?q=tbn:ANd9GcRs1bB9oO2ocWuv3UOc6WfJNtCdO0yeSvLnLPuJcRNH4jYKqM6-j9eWUNT-7g&amp;s\"/>,\n",
       " <img alt=\"\" class=\"yWs4tf\" src=\"https://encrypted-tbn0.gstatic.com/images?q=tbn:ANd9GcQzrP-UZfRVVfj9bBvnFmkSXsYVsgMw1148qJ2Bt7_MeTn2fsyRWItUhyCdmw&amp;s\"/>,\n",
       " <img alt=\"\" class=\"yWs4tf\" src=\"https://encrypted-tbn0.gstatic.com/images?q=tbn:ANd9GcTHUQn0zLQ36cOWMLz9agXRpkIzx3Px2Xmf_cXKU68Wd3B4GaKbR3ahJc7V_w&amp;s\"/>,\n",
       " <img alt=\"\" class=\"yWs4tf\" src=\"https://encrypted-tbn0.gstatic.com/images?q=tbn:ANd9GcT1GVtLZDY3qrHllOloGca6Wc4Lp7obmY83pwVeraGcHa2ZsFmr8wCi9a5c&amp;s\"/>,\n",
       " <img alt=\"\" class=\"yWs4tf\" src=\"https://encrypted-tbn0.gstatic.com/images?q=tbn:ANd9GcSjjzVR4L9xgH1pPqdtq7PP4vQWVNUY36HoWA4ieSvhGv4yw4NIN7JsYY_lQA&amp;s\"/>,\n",
       " <img alt=\"\" class=\"yWs4tf\" src=\"https://encrypted-tbn0.gstatic.com/images?q=tbn:ANd9GcRfB5Gz9isRiQ5j6lYyM1FuLjl8JbVmdZkp_5ioCaY9tgKoUeVjGM7lzxZsZt8&amp;s\"/>,\n",
       " <img alt=\"\" class=\"yWs4tf\" src=\"https://encrypted-tbn0.gstatic.com/images?q=tbn:ANd9GcR1W4TP5VzDrRT3jERC51vJiUG-tDB-0QkHW4-YxRG8wfTK1hWDxcEp9qlv8w&amp;s\"/>,\n",
       " <img alt=\"\" class=\"yWs4tf\" src=\"https://encrypted-tbn0.gstatic.com/images?q=tbn:ANd9GcRvIrb2317A626o8TpSPfE1bWBLjaEvWG5l0fI2nJSie4rXlQScg88SEWtjTw&amp;s\"/>,\n",
       " <img alt=\"\" class=\"yWs4tf\" src=\"https://encrypted-tbn0.gstatic.com/images?q=tbn:ANd9GcREirobsQzw_UKrGoc8R-V-kUpWd6STi3GcmCfFVz9c2hQbjB9VZS23Ypv1kfI&amp;s\"/>,\n",
       " <img alt=\"\" class=\"yWs4tf\" src=\"https://encrypted-tbn0.gstatic.com/images?q=tbn:ANd9GcSsBEo3cIeFs4FBl-6vWfOR8gtYbkjbG2XCdr3CeqnNjFG0R93DPJo88VB5Dzw&amp;s\"/>,\n",
       " <img alt=\"\" class=\"yWs4tf\" src=\"https://encrypted-tbn0.gstatic.com/images?q=tbn:ANd9GcSIxFkmtfkG94Qxieg1njMUBLHwkgD7PTPpZB91a0YYpVaeRL7ml3eABMcCl4A&amp;s\"/>,\n",
       " <img alt=\"\" class=\"yWs4tf\" src=\"https://encrypted-tbn0.gstatic.com/images?q=tbn:ANd9GcQDPbtcA2s1cFBJ5qQ2cBnvuP4U4o9UyqGO29UVJnbW27sElaiQddONfX6JGA&amp;s\"/>]"
      ]
     },
     "execution_count": 29,
     "metadata": {},
     "output_type": "execute_result"
    }
   ],
   "source": [
    "img_tags"
   ]
  },
  {
   "cell_type": "code",
   "execution_count": 30,
   "id": "dd226875",
   "metadata": {},
   "outputs": [
    {
     "data": {
      "text/plain": [
       "19"
      ]
     },
     "execution_count": 30,
     "metadata": {},
     "output_type": "execute_result"
    }
   ],
   "source": [
    "len(img_tags)"
   ]
  },
  {
   "cell_type": "code",
   "execution_count": 37,
   "id": "73bbc05d",
   "metadata": {},
   "outputs": [
    {
     "data": {
      "text/plain": [
       "b'\\xff\\xd8\\xff\\xe0\\x00\\x10JFIF\\x00\\x01\\x01\\x00\\x00\\x01\\x00\\x01\\x00\\x00\\xff\\xdb\\x00\\x84\\x00\\t\\x06\\x07\\x08\\x07\\x06\\t\\x08\\x07\\x08\\n\\n\\t\\x0b\\r\\x16\\x0f\\r\\x0c\\x0c\\r\\x1b\\x14\\x15\\x10\\x16 \\x1d\"\" \\x1d\\x1f\\x1f$(4,$&1\\'\\x1f\\x1f-=-157:::#+?D?8C49:7\\x01\\n\\n\\n\\r\\x0c\\r\\x1a\\x0f\\x0f\\x1a7%\\x1f%77777777777777777777777777777777777777777777777777\\xff\\xc0\\x00\\x11\\x08\\x00\\x8c\\x00q\\x03\\x01\"\\x00\\x02\\x11\\x01\\x03\\x11\\x01\\xff\\xc4\\x00\\x1b\\x00\\x00\\x01\\x05\\x01\\x01\\x00\\x00\\x00\\x00\\x00\\x00\\x00\\x00\\x00\\x00\\x00\\x05\\x00\\x01\\x02\\x03\\x04\\x06\\x07\\xff\\xc4\\x008\\x10\\x00\\x01\\x03\\x02\\x04\\x04\\x03\\x06\\x05\\x02\\x07\\x00\\x00\\x00\\x00\\x00\\x01\\x00\\x02\\x03\\x04\\x11\\x05\\x12!A\\x061Qa\\x13\"q\\x14#\\x81\\x91\\xa1\\xb12R\\xc1\\xd1\\xf0\\x07\\x15\\x16Bb\\x82\\x92\\xa2\\xb2\\xff\\xc4\\x00\\x14\\x01\\x01\\x00\\x00\\x00\\x00\\x00\\x00\\x00\\x00\\x00\\x00\\x00\\x00\\x00\\x00\\x00\\x00\\xff\\xc4\\x00\\x14\\x11\\x01\\x00\\x00\\x00\\x00\\x00\\x00\\x00\\x00\\x00\\x00\\x00\\x00\\x00\\x00\\x00\\x00\\xff\\xda\\x00\\x0c\\x03\\x01\\x00\\x02\\x11\\x03\\x11\\x00?\\x00\\xbe\\x99\\x80\\x0c\\xbd7D\\xa0\\xd0\\x00,J\\xc2\\xc6d{\\xbdV\\x96^\\xfc\\xd0F\\xa2\\x13#\\xeeE\\xc8\\xea\\xa8\\x8e\\x97,\\xb6\\x06\\xd7Z\\xdc\\xf04&\\xe95\\xe31 \\xf2A#\\x18cG\\x97\\xb2k\\xbbQm.\\xa7\\x9a\\xe0o\\xb2)A\\x81TT\\xbbP\\x18\\xdb\\x8b\\x92G.\\xa1\\x00\\xf8#\\x1a])\\x9a\\x1a\\xf1`\\x0e\\xa8\\x85V\\x1d-$\\xafa9\\xda\\xd3b\\xe6\\x85\\x9d\\xf4\\xf2\\xc9\\x18|q\\xb9\\xc0\\x0b\\x92\\x1b\\xa2\\x0cnk\\x9cl\\x134e\\xe6E\\xfa\\x05\\xb2\\x9e\\x07\\xc8\\xe2\\x1a\\xc7\\x17t\\xea\\xab\\xac\\x82jy\\xb2\\xbe\\'\\xb4\\x13\\xa5\\xdaPd#96\\xbf\\xc5f\\xa9\\xb0\\x07\\xd1kp\\xe4@\\x16+,\\xcd\\x06\\xe2\\xf6\\xb6\\xe8\\x07\\x91\\xcc\\xec\\xb0\\xd6\\x02\\xf8\\xceTF\\xa5\\xc26\\x1d\\x10\\xe9\\x9e\\r9\\x1d\\xb7@\\x0b\\xc3\\x93\\xaf\\xd5%w\\x88\\x92\\x0e\\xe5\\xec\\xf3\\x1bi\\xcdN6\\xe7&\\xc3\\x90\\xd5f{\\xc8\"\\xea\\xf8\\xddan\\xa8.\\x0chi\\xbe\\xa6\\xea\\xe1\\x14a\\xa2\\xc3eLo\\x1a\\x9d\\x00\\xba\\xb67\\x8b\\x1fT\\x1b\\xb0\\x90\\xc8q\\x1awH\\xc0C\\x9d\\x94i\\xc8\\x95\\xda?\\xc3c\\x01h\\x0cw;\\x81\\xa7\\xaf\\xddp\\xcc\\x04\\xc6\\x1f\\x13\\x9a%c\\xafl\\xdc\\xc2\\xb3\\x10\\xc7\\x1f\\x15.i\\xdeXA\\xbf\\x86\\xd1a{_\\xf4A\\xd0KR\\xc9&!\\xad\\x19\\xc6\\xe7_\\xa2\\xb4F\\x0b2\\xc8\\xe2GM,\\x81\\xf0\\xfdK*Nw\\x10M\\xbc\\xd6\\xec\\xba\\x06\\xc9\\te\\x9cu\\x1b\\xa0\\x01_=^\\x15Pe\\x11\\xb7\\xd9\\xad\\xa3\\xa3o#\\xdd\\x12\\xa2\\xc4$\\xa9\\xa6v\\xa0<\\x8dNpl\\xa5^\\xc7II#\"xp#(<\\x96L\\x1ay_J\\xd7J\\xc6\\x07\\xb4\\x96\\x1c\\xe7\\xcd\\xf6@/\\x19\\xc3\\xfd\\x9e\\xf3\\xb4\\xdb3\\xef\\x90\\x804\\xb6\\xa7N\\xe8\\x1c\\xc71\\xba\\xec\\xb1\\x92\\xd3C.i\\x01qm\\x85\\xb9\\x7f;.=\\xed j\\x80uK\\x0b\\x9bnhuSr\\xc7\\xcbD^Sf\\x92\\x10\\xda\\xb3x]\\xa7$\\x002\\xf6\\xfa\\xa4\\xac\\xcb\\xfe\\x82\\x92\\x0e\\xe2H\\xc3\\xda\\x08WD\\xd3{\\x1dB\\xa29\\x07\\x85\\xae\\xda+\\xa0vp\\x08\\xe6\\x10X\\xf8\\x83o\\xa5\\xcfd\\xcd%\\xbb+\\xafa\\xc8*f\\x94d\\x16n\\xe8\\x1e\\xf77\\x17\\x07b6Ak\\xea\\xa3\\x97\\x15\\x86\\x9ai\\x04lc\\xf3\\xc8\\xf3\\xae\\x80X\\x0f\\x89(\\xabe\\xb9\\xb5\\x90\\x8cn\\x8d\\x95\\xd5Mk\\x9aXK,\\x086.\\xb1\\xe4\\x0e\\xdc\\xd0v\\x18-v\\x10\\xc82\\xb2\\xae\\x9d\\xe40\\xb9\\xb9\\x1c\\x0b\\xb4\\xe7q\\xaa**\\xb0\\xe6\\xb0\\x99jiX\\x07pm\\xfb/7\\xe1\\xfe\\x1c\\xa6\\xff\\x00\\x11\\xd1U6\\x9d\\xf1\\x90\\\\\\xe7\\xb4\\xda\\xcf\\x16#Q\\xae\\x9a\\xa2\\xb8\\xa7\\x01\\xe1\\xff\\x00\\xdc=\\xb68\\xa6`../\\x89\\xe4\\xf8n;\\x11\\xa9\\x03]\\x08\\xe9\\xafp\\xea\\xe6\\xa9\\x17l\\xd1N\\xd9 o\\x99\\xd9M\\xc9\\x1b\\xfa\\xa9\\x9a\\xbaY\\xcb\\x86\\x84\\x06\\x83\\x99\\x86\\xe6\\xdf\\xaa\\x0b\\x06\\r\\x16\\x19,\\x93\\xb6\\xaec\\x14\\x82\\xeec\\x88\\xd4\\xfc\\x90j\\xaa\\x19)\\xaa\\x1d\\x06\\x1ag\\xa7mE4\\x85\\xb37\\\\\\x8f\\x04\\x00,ys\\xba\\x03\\xf5\\xd3\\xc7\\x0c\\x87\\xc2..-\\xcb\\xe6\\x17\\xb7\\xaa\\t,\\x8dh7WOS\\xe3LI\\xfc]N\\xe8mQqq\\xb7\\xdd\\x05r\\xc8\\x0e\\x9b,U\\x0f\\x1e\\x19\\x1bYX\\xfb\\xd8\\xdc\\xac\\x93fs\\x1c6@>\\xed\\xe8>I&\\xf0\\x9d\\xf9\\xbf\\xec\\x92\\x0e\\xbc\\xf9c\\x00+\\xe8\\xee\\x1bs\\xc9@\\xd8\\xb0\\x05\\xb2\\x920\\x00\\xba\\t\\xf3j\\xa0\\xb2\\xe2\\xc7\\xaa\\xdf\\xe1\\x0b\\xf9y*^\\xdc\\xa5\\x06f\\xc5b\\x08P\\xc5\\xb0\\xd9*\\xa8c\\xa9\\x81\\xde\\xf6\\x9c\\x93k\\xd8\\x86\\xff\\x00>\\xcb[\\xa4\\x8e(\\xdd,\\xcflqF\\xd2\\xe7\\xbd\\xc6\\xc1\\xa0nP\\xbc\\x13\\x1ao\\x16R\\xe3Pad\\xc0\\xf8r\\xb6\\x98\\x9d\\x0c\\x97\\x07Wt\\x0e \\x8fD\\x01\\xa0\\xe2\\x1cB\\x83\\x14eU;)k\\x1f$c\\xdd\\xbc\\xe5s\\x07F\\xdbo\\xba\\xec\\xdd6\\'\\xeeq\\x08\\xaa)\\xcc\\xc0ZJH\\x81\\xc94{\\x83}K\\xc6\\xa4\\x11\\xdc[U\\xc3\\xe1\\x8ec\\xf17\\xfb=>\\x1f\\xef\\x0b\\x8b\\x84\\xcc\\x17c\\xf7\\x16\\xb1\\xd4\\x15\\xd8\\xb2(\\xdf\\x03=\\xae\\x97\\x0e,\\xb0w\\x8b\\x14b\\xc3\\xa1\\x1a\\rPh\\x19\\xab\\xea\\x1c\\xe6J\\xc7@\\x08qkG`m\\xd3q\\xf3\\\\\\xe67\\xc6F\\x83\\x89\\xa1\\xc0\\xdf\\x14\\x0eh\\x90\\x07\\xd4\\xb5\\xce\\xbce\\xc3\\xca-\\xca\\xff\\x00\\x86\\xfe\\xa8\\xde9\\x8c\\xd3`84\\x98\\xc5A\\xcf!hd\\x10\\x83o\\x19\\xe7\\x97\\xc3\\x99\\xbf@W\\x84\\xe2\\x15\\x93\\xe25\\x93\\xd6V?<\\xf3\\xbc\\xbd\\xee\\xb5\\xb5=; \\xf6Z\\x82A\\xe8V)\\xc9-\\xbe\\xab/\\x0eb\\xcc\\xc6\\xf0\\xb6?0\\xf6\\xa8\\x86Y\\xd9}o\\xf9\\xbd\\n\\xd1V\\\\\\xd6\\x80\\n\\nH\\xb8=\\x16w\\xe8\\xc3\\x9b\\xe8\\x15\\xc0\\xb8k\\xbf\\xa2\\xcf),c\\xaet?D\\x18l\\xcf\\xce\\xef\\xf8\\xa6UfI\\x07n\\xc2\\xd2Z\\xdd\\xd1\\x10\\xd0\\xc24A] l\\x8c\\xb7$Z9D\\x8d\\x16\\xd5\\x06\\xac\\xe2\\xdal\\xa0\\xf6\\\\f:\\r\\xc9\\xe4\\x16*\\xda\\xd8p\\xfaI\\xea\\xea\\x89\\x11B.\\xe07\\xe8\\x07\\xaa\\xf2|{\\x88\\xb1,n\\xa4\\xbd\\xf2>*v\\xea\\xcax\\xddf\\xb4w;\\x9e\\xe5\\x01.;\\xe2\\xc6\\xe2\\xce\\x18~\\x18\\xf3\\xfd\\xbd\\x86\\xf2?\\x97\\x8e\\xe0\\x7f\\xf26\\xeau\\xd8.R\\x1a\\xca\\xaah*#\\xa6\\x9eH\\xd9;2\\xca\\xd6<\\xb7\\xc4\\x03\\x906\\xd9I\\xf0\\x1c\\xef7\\x19\\t$\\x01\\xea\\xb3HKC\\xb4\\xbe\\x88=_\\x0e\\xc2ik\\xf0\\xfa,\\xd16\\xb6\\'@\\xcc\\x95\\x91\\x0c\\x8f\\x0e\\x03\\xd4\\x1d\\xadmu\\xdbUM{\\xa7\\xe1w\\xc5_\\x00\\xf6\\xcav\\x1b:\\x9e\\xb38\\x16\\xb71\\x9a\\xdem\\x05\\xb9\\xab\\xf0\\xee\\x1ef\\x1b\\x86\\xc6\\xec\\x1e\\xa5\\xce\\x0f\\x91\\x95\\rt\\x8e\\xcad9u\\x06\\xdbk\\xcb\\xba\\xe28\\xb7\\x88%\\xe2\\x1a\\xf6\\x80Kii\\xdb\\x966f\\xcc\\x0b\\xbf\\xcc\\xeb\\xef\\xd0\\x1e\\x9e\\xa8(\\xe2\\x9e%\\xac\\xe2Z\\xf1ST\\x1b\\x1cQ\\x8c\\xb0\\xc0\\xc3\\xe5\\x8c~\\xa4\\xee\\x7fd\\x11M\\xd1\\xb9\\xbb\\\\u\\x1a\\xa8\\xb0uA\\xa6\\x8a\\xb2\\xa3\\x0e\\xa8eU\\x1c\\xae\\x8afrp\\xdct#q\\xd9w\\x98\\x17\\x11\\xc5\\x8c\\xb0\\xc5R\\x1b\\x15kG\\xe0\\x1f\\x86A\\xd5\\xbf\\xb2\\xf3\\xec\\xb9\\x94Z\\xe7D\\xf6\\xbe7\\x16=\\xa6\\xedsM\\x88(=^\\xc2\\xde\\xab\\rS\\xac\\xd7vB\\xb0\\xae)\\xa7\\x9e\\x00\\xdcFV\\xc3;E\\x8b\\xacr\\xbf\\xbfe\\xa6\\xbek\\r\\x0e\\x9dz\\xa0\\xcb\\xe3\\x0f\\xcb\\xf5N\\xb1\\xdd\\xc9 \\xee/\\xe4n\\xb7%\\x10\\xa7%\\xadi\\x07P\\x82\\xd3K\\x9a&\\\\\\xea\\x8a\\xb6h\\xdb\\x11|\\xa45\\x8dm\\xcb\\x8e\\xc1\\x077\\xfdG\\xae\\x0c\\xa1\\xa6\\xa2\\xcdw\\xca\\xf33\\xc7F\\xb7@>g\\xe8\\xb8\\x00@w\\x98\\xdc\\xad\\x9cC\\x8a\\x1cS\\x13\\x9a\\xa7\\\\\\x84\\xe5\\x8c\\x1d\\x9a9,\\x01\\xd7\\x17\\xdd\\x06\\xc0\\xd2c(t\\xba\\xc8z\\x02\\xb6\\x19m\\t=\\x96\\x1b\\xa0\\xf4\\x9a\\x8cfZ_\\xe9\\xed-M4\\x8c\\x13\\x98\\x19\\x03o\\xce\\xff\\x00\\x85\\xd6\\xee\\x00\\'\\xe0\\xbc\\xe9\\x9e\\xee\\xd9V\\xba\\x9a\\xd3>\\x1dAD\\xd2|:f\\xbd\\xce\\xee\\xf78\\xfd\\x85\\xbeedq\\x08\\x1d\\xd2\\xd8\\xde\\xd7v\\xca$\\xdc\\xdfO\\x82\\xaf\\x99R\\x1a \\xb4\\x1b5T\\xf4\\xe5\\xdaY@\\x9b\\x94\\x08.\\x9f\\t\\xaa\\xf1\\xb0\\x86\\xb1\\xc7\\xde@r\\x7f\\xb7\\x98\\\\\\xc2%\\x81H[T\\xf8\\xf6\\x923\\x7f\\x86\\xbf\\xba\\x02>#\\xba\\xa4\\xa5\\xe1\\x8e\\xa1$\\x07\\xe8gq\\xf0\\xfa[\\xaa\\x87\\x17\\xe2b,+\\xd9\\x1a\\xfbI=\\x83\\x80\\xd9\\xbb\\xa1T\\xd8\\x83iat\\xb2\\x1b\\xe5\\x17\\xb2\\xe7*\\xea\\xe4\\xac\\x9d\\xf2\\xcas9\\xc7\\xe5\\xd9\\x05o7\\xd7@;\\x95\\x1b\\xdbu\\xd4`\\xb4\\xf4\\xb1\\xcb\\x145o\\x06\\xed/\\x960\\xc1q\\xd0_\\xee\\x8dE\\x86\\xf0\\xeb\\xea\\x1b==,Nxu\\xc3s\\x92\\xcf\\x8by \\xe0\\x1eO\\x83eJ\\xec\\xb8\\x97\\x00\\x82V:\\xa7\\x0bfIowS\\xb2\\xd9]\\xd4\\xb7\\xa1\\xec\\xb8\\xdbX\\xd9\\xd7\\x04s\\x04j\\x10M\\xae\\xb0\\xe4\\x9e\\x16\\x89e\\rq\\xb3}T\\x13Y\\x05\\x92\\xb5\\xac\\x95\\xcda\\xcc\\x1al\\n\\x8a\\x8aH\\x1d6\\xe9]5\\xd0:\\xd5\\x85\\xb8\\xb6\\xbe\\x12:\\xdb\\xe6\\x16]\\x94\\xe9\\xdec\\x9e7\\r\\x9c\\n\\x0e\\x8a\\xdd\\x92K2H\\x00MP\\xf9\\x1b\\x90\\x9f/ES]g\\x03\\xddE=\\xac\\x80\\xfe\\x17\\x89\\xcb\\xed\\xee\\x90D%{\\x9b\\xcc\\x00\\n\\x9dmL\\x1e\\xd1\\xe2\\xba\\x9e\\xa2\\x96[\\xea\\xe8\\xcf\\x95\\xdf-\\x17?\\x1c\\x8f\\x8d\\xe1\\xd1\\xb8\\xb5\\xc3\\x91\\x0b\\\\\\x95\\xd2\\x01\\xe4\\xa9\\x90\\xdf\\x9b_\\xaa\\x02UX\\x8b\\xa1c\\x9fM^\\xf2\\xf2\\x01\\r\\x91\\xb7A\\xebed\\xf5.\\x95\\x82\\xd9\\x80.=]\\xb9\\xf9\\xa8TN\\xfa\\x87\\x87\\xc8n@\\xb2\\xa8vA$\\xe1\\x8e-.\\x1c\\x82b\\x90q\\x02\\xc0\\xf3@\\xd7L\\x12\\xb2V@\\x92H\\xe8\\x99\\x03\\xa4\\r\\x88=\\xd2L\\x80\\xcf\\xb47\\xf3\\'B<S\\xd1$\\r\\xb2b\\xae-\\x01@\\xb4Y\\x044\\xb0\\xea\\x9c)\\x06\\x8b\\'\\xca\\x10TR\\n\\xcc\\xa0\\x94\\xb2\\x84\\x11\\xbe\\x89\\x94\\xf2\\x80R\\xca\\x100L{\\'!,\\xa8 \\x9e\\xcaYB{ \\x82b\\n\\xb0\\x00\\x9e\\xc1\\x056I]\\x90wL\\x83\\xff\\xd9'"
      ]
     },
     "execution_count": 37,
     "metadata": {},
     "output_type": "execute_result"
    }
   ],
   "source": [
    "requests.get(\"https://encrypted-tbn0.gstatic.com/images?q=tbn:ANd9GcSfEcrGorOUTJ1E-1dfBQc-oNEXmRQYbE86k7mYzESO58qfIs6-4iCvXjYakSc&s\").content"
   ]
  },
  {
   "cell_type": "code",
   "execution_count": null,
   "id": "600f41ea",
   "metadata": {},
   "outputs": [],
   "source": [
    "save_dir=\"images/\"\n",
    "if not os.path.exists(save_dir):\n",
    "    os.makedirs(save_dir)"
   ]
  },
  {
   "cell_type": "code",
   "execution_count": 38,
   "id": "24f6108d",
   "metadata": {},
   "outputs": [
    {
     "name": "stdout",
     "output_type": "stream",
     "text": [
      "0\n",
      "1\n",
      "2\n",
      "3\n",
      "4\n",
      "5\n",
      "6\n",
      "7\n",
      "8\n",
      "9\n",
      "10\n",
      "11\n",
      "12\n",
      "13\n",
      "14\n",
      "15\n",
      "16\n",
      "17\n",
      "18\n"
     ]
    }
   ],
   "source": [
    "for i in img_tags:\n",
    "    print(img_tags.index(i))\n",
    "    "
   ]
  },
  {
   "cell_type": "code",
   "execution_count": 36,
   "id": "1a65c325",
   "metadata": {},
   "outputs": [],
   "source": [
    "for i in img_tags:\n",
    "    img_url=i['src']\n",
    "    img_data=requests.get(img_url).content\n",
    "    with open(os.path.join(save_dir,f\"{query}_{img_tags.index(i)}.jpg\"),\"wb\") as f:\n",
    "        f.write(img_data)\n",
    "    "
   ]
  },
  {
   "cell_type": "code",
   "execution_count": null,
   "id": "097aa11d",
   "metadata": {},
   "outputs": [],
   "source": []
  }
 ],
 "metadata": {
  "kernelspec": {
   "display_name": "Python 3 (ipykernel)",
   "language": "python",
   "name": "python3"
  },
  "language_info": {
   "codemirror_mode": {
    "name": "ipython",
    "version": 3
   },
   "file_extension": ".py",
   "mimetype": "text/x-python",
   "name": "python",
   "nbconvert_exporter": "python",
   "pygments_lexer": "ipython3",
   "version": "3.11.4"
  }
 },
 "nbformat": 4,
 "nbformat_minor": 5
}
